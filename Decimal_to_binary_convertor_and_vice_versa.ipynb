{
  "nbformat": 4,
  "nbformat_minor": 0,
  "metadata": {
    "colab": {
      "provenance": []
    },
    "kernelspec": {
      "name": "python3",
      "display_name": "Python 3"
    },
    "language_info": {
      "name": "python"
    }
  },
  "cells": [
    {
      "cell_type": "code",
      "execution_count": 2,
      "metadata": {
        "colab": {
          "base_uri": "https://localhost:8080/"
        },
        "id": "B-SIbQIUYsCU",
        "outputId": "aef254d1-d009-434e-f3fc-a492cf2d6d20"
      },
      "outputs": [
        {
          "output_type": "stream",
          "name": "stdout",
          "text": [
            "Choose an option: \n",
            " 1. Decimal to binary \n",
            " 2. Binary to decimal\n",
            " Option: 1\n",
            "Input your decimal number:\n",
            "Decimal: 10\n",
            "Binary: 1010\n"
          ]
        }
      ],
      "source": [
        "try:\n",
        "    menu = int(input(\"Choose an option: \\n 1. Decimal to binary \\n 2. Binary to decimal\\n Option: \"))\n",
        "    if menu < 1 or menu > 2:\n",
        "        raise ValueError\n",
        "    if menu == 1:\n",
        "        dec = int(input(\"Input your decimal number:\\nDecimal: \"))\n",
        "        print(\"Binary: {}\".format(bin(dec)[2:]))\n",
        "    elif menu == 2:\n",
        "        binary = input(\"Input your binary number:\\n Binary: \")\n",
        "        print(\"Decimal: {}\".format(int(binary, 2)))\n",
        "except ValueError:\n",
        "    print (\"please choose a valid option\")"
      ]
    }
  ]
}